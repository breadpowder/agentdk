{
 "cells": [
  {
   "cell_type": "markdown",
   "source": "## Summary: Builder Pattern Benefits\n\nThe new builder pattern provides:\n\n1. **Eliminated 200+ lines of boilerplate code** - no more class definitions needed\n2. **Flexible prompts** - functions, variables, strings, files all supported  \n3. **Optional MCP** - only loads when explicitly configured with `.with_mcp_config()`\n4. **Clean API** - fluent interface with method chaining\n5. **Backward compatibility** - existing App and supervisor patterns still work\n6. **Easy testing** - simpler to create agents for testing scenarios\n\n### Before (Old Approach):\n```python\n# Required 104+ lines of class boilerplate\nclass EDAAgent(SubAgentInterface):\n    def _get_default_prompt(self): ...\n    async def _create_langgraph_agent(self): ...\n    def process(self, state): ...  # 30+ lines\n```\n\n### After (New Builder Pattern):\n```python  \n# Just one line!\neda_agent = create_eda_agent(llm=llm, mcp_config_path=\"config.json\")\n\n# Or with full builder control:\nagent = (Agent()\n    .with_llm(llm)\n    .with_prompt(my_prompt)\n    .with_mcp_config(\"config.json\")\n    .build())\n```\n\n🎉 **Much cleaner and more maintainable!**",
   "metadata": {}
  },
  {
   "cell_type": "code",
   "source": "# Create a research agent without MCP (using custom tools)\ndef mock_web_search(query: str) -> str:\n    \"\"\"Mock web search tool for demonstration.\"\"\"\n    return f\"Mock search results for: {query}\\\\nFound relevant information about the topic.\"\n\nprint(\"Creating research agent with custom tools (no MCP)...\")\nresearch_agent = (Agent()\n    .with_llm(llm)\n    .with_prompt(get_research_agent_prompt)  # Function prompt\n    .with_tools([mock_web_search])  # Custom tools instead of MCP\n    .with_name(\"research_agent\")\n    .build())\n\n# Test research agent\nresult = research_agent.query(\"What are the latest trends in AI?\")\nprint(\"Research agent result:\")\nprint(result[:300] + \"...\" if len(result) > 300 else result)",
   "metadata": {},
   "outputs": []
  },
  {
   "cell_type": "markdown",
   "source": "### 4. Research Agent Without MCP",
   "metadata": {}
  },
  {
   "cell_type": "code",
   "source": "# Example 1: String prompt\nprint(\"Creating agent with string prompt...\")\nstring_agent = (Agent()\n    .with_llm(llm)\n    .with_prompt(\"You are a helpful data assistant. Be concise and friendly.\")\n    .with_mcp_config(\"subagent/mcp_config.json\")\n    .build())\n\n# Example 2: Variable prompt  \nresearch_prompt_var = \"You are a research expert. Focus on providing accurate information.\"\nprint(\"Creating agent with variable prompt...\")\nvariable_agent = (Agent()\n    .with_llm(llm)\n    .with_prompt(research_prompt_var)  # Variable\n    .build())  # No MCP - just tools if needed\n\n# Example 3: Function prompt (already shown above with get_eda_agent_prompt)\nprint(\"✅ All prompt types demonstrated!\")\nprint(f\"String agent name: {getattr(string_agent, 'name', 'N/A')}\")\nprint(f\"Variable agent prompt starts with: {variable_agent._get_default_prompt()[:50]}...\")",
   "metadata": {},
   "outputs": []
  },
  {
   "cell_type": "markdown",
   "source": "### 3. Flexible Prompt Examples",
   "metadata": {}
  },
  {
   "cell_type": "code",
   "source": "# Create EDA agent using builder pattern directly\nprint(\"Creating EDA agent using builder pattern...\")\neda_agent_builder = (Agent()\n    .with_llm(llm)\n    .with_prompt(get_eda_agent_prompt)  # Function prompt\n    .with_mcp_config(\"subagent/mcp_config.json\")\n    .with_name(\"builder_eda_agent\")\n    .build())\n\n# Test the agent\nresult = eda_agent_builder.query(\"give me 2 records from table 'trans'\")\nprint(\"Builder pattern EDA agent result:\")\nprint(result[:300] + \"...\" if len(result) > 300 else result)",
   "metadata": {},
   "outputs": []
  },
  {
   "cell_type": "markdown",
   "source": "### 2. Direct Builder Pattern Usage",
   "metadata": {}
  },
  {
   "cell_type": "code",
   "source": "# Create EDA agent using factory function\nprint(\"Creating EDA agent using factory function...\")\neda_agent = create_eda_agent(\n    llm=llm,\n    mcp_config_path=\"subagent/mcp_config.json\"\n)\n\n# Test the agent\nresult = eda_agent.query(\"which table i have access to?\")\nprint(\"Factory function EDA agent result:\")\nprint(result[:300] + \"...\" if len(result) > 300 else result)",
   "metadata": {},
   "outputs": []
  },
  {
   "cell_type": "raw",
   "metadata": {
    "vscode": {
     "languageId": "raw"
    }
   },
   "source": "# AgentDK Testing Notebook\n\nThis notebook demonstrates how to test and use the AgentDK framework in jupyter notebook with the new **Builder Pattern** for creating agents without boilerplate class definitions.\n\n## Features Covered:\n- **New Builder Pattern** - Create agents with fluent API\n- Agent usage with memory integration\n- MCP server integration with MySQL\n- Multi-agent supervisor patterns\n- Prompt flexibility (functions, variables, strings, files)\n\n## Prerequisites:\n1. Run setup.sh to setup the environment for MySQL and populate the database with sample data.\n2. Install dependencies: `uv sync`\n3. Set up environment variables in `.env` file, e.g. OPENAI_API_KEY and ANTHROPIC_API_KEY\n\n## What's New in Builder Pattern:\n- **No class definitions needed** - eliminated 200+ lines of boilerplate\n- **Flexible prompts** - support functions, variables, strings, files  \n- **Optional MCP** - only loads MCP when explicitly configured\n- **Fluent API** - clean, readable agent creation",
   "outputs": []
  },
  {
   "cell_type": "code",
   "metadata": {},
   "outputs": [],
   "source": "import os\nimport sys\nimport asyncio\nimport json\nfrom typing import Any, Dict, List\nfrom pathlib import Path\n# Add the src directory to Python path for imports\nsys.path.insert(0, str(Path.cwd().parent / 'src'))\n\n# Import updated components using new builder pattern\nfrom subagent.eda_agent import create_eda_agent\nfrom examples.agent_app import App\nfrom agentdk.core.logging_config import ensure_nest_asyncio\n\n# Import builder for direct usage examples\nfrom agentdk import Agent\nfrom subagent.prompts import get_eda_agent_prompt, get_research_agent_prompt\n\n\ndef get_llm():    \n    # Try OpenAI\n    if os.getenv('OPENAI_API_KEY'):\n        try:\n            from langchain_openai import ChatOpenAI\n            model = \"gpt-4o-mini\"\n            llm = ChatOpenAI(model=model, temperature=0)\n            print(f\"✅ Using OpenAI {model}\")\n            return llm\n        except ImportError:\n            print(\"❌ langchain_openai not available\")\n        except Exception as e:\n            print(f\"❌ OpenAI setup failed: {e}\")\n    \n    # Try Anthropic\n    elif os.getenv('ANTHROPIC_API_KEY'):\n        try:\n            from langchain_anthropic import ChatAnthropic\n            llm = ChatAnthropic(model=\"claude-3-haiku-20240307\", temperature=0)\n            print(\"✅ Using Anthropic Claude-3-Haiku\")\n            return llm\n        except ImportError:\n            print(\"❌ langchain_anthropic not available\")\n        except Exception as e:\n            print(f\"❌ Anthropic setup failed: {e}\")\n\n    else:\n        raise ValueError(\"No LLM API key found\")\n    # Fallback to mock\n    return llm\n\n# Get LLM instance\nllm = get_llm()"
  },
  {
   "cell_type": "markdown",
   "metadata": {},
   "source": "## Original App Usage (Now Using Builder Pattern)\n\nThe App class continues to work exactly the same, but now internally uses the new builder pattern for creating agents.",
   "outputs": []
  },
  {
   "cell_type": "code",
   "execution_count": 2,
   "metadata": {},
   "outputs": [
    {
     "name": "stdout",
     "output_type": "stream",
     "text": [
      "2025-06-25 11:42:38,683 - agentdk - INFO - WorkingMemory initialized for user default, session 9d93ef3e-1eef-4b15-b0d0-3b490f6acc44\n",
      "2025-06-25 11:42:38,686 - agentdk.memory.episodic_memory - INFO - EpisodicMemory initialized for user default\n",
      "2025-06-25 11:42:38,687 - agentdk - INFO - FactualMemory initialized for user default\n",
      "2025-06-25 11:42:38,688 - agentdk - INFO - Initializing WorkingMemory\n",
      "2025-06-25 11:42:38,688 - agentdk - INFO - WorkingMemory initialization complete\n",
      "2025-06-25 11:42:38,689 - agentdk - INFO - Initializing FactualMemory database\n",
      "2025-06-25 11:42:38,690 - agentdk - INFO - FactualMemory initialization complete\n",
      "2025-06-25 11:42:38,691 - agentdk.memory.memory_manager - INFO - MemoryManager initialized for user default, session session_2e3a0b5e\n",
      "✅ Memory system initialized for user default\n",
      "2025-06-25 11:42:39,562 - agentdk - INFO - Loaded MCP configuration from: subagent/mcp_config.json\n",
      "2025-06-25 11:42:39,702 - agentdk - INFO - MCP client configured with 1 servers\n",
      "2025-06-25 11:42:40,071 - agentdk - INFO - Loaded 1 tools from MCP servers\n",
      "2025-06-25 11:42:40,076 - agentdk - INFO - Created LangGraph agent with 1 tools\n",
      "2025-06-25 11:42:40,077 - agentdk - INFO - Agent EDAAgent initialized successfully\n",
      "2025-06-25 11:42:41,559 - agentdk - INFO - {\"tool\": \"execute_sql\", \"args\": {\"query\": \"SHOW TABLES;\"}}\n",
      "2025-06-25 11:42:41,947 - agentdk - INFO - {\"tool\": \"execute_sql\", \"status\": \"completed\"}\n",
      "**Available Tables:**\n",
      "- accounts\n",
      "- customer_account_summary  \n",
      "- customers\n",
      "- monthly_transaction_summary\n",
      "- transactions\n",
      "2025-06-25 11:42:46,994 - agentdk - INFO - {\"tool\": \"execute_sql\", \"args\": {\"query\": \"SELECT SUM(amount) AS total_amount \\nFROM transactions t\\nJOIN accounts a ON t.account_id = a.account_id\\nJOIN customers c ON a.customer_id = c.customer_id\\nWHERE c.first_name = 'John' AND c.last_name = 'Smith'\"}}\n",
      "2025-06-25 11:42:47,376 - agentdk - INFO - {\"tool\": \"execute_sql\", \"status\": \"completed\"}\n",
      "```sql\n",
      "SELECT SUM(amount) AS total_amount \n",
      "FROM transactions t\n",
      "JOIN accounts a ON t.account_id = a.account_id\n",
      "JOIN customers c ON a.customer_id = c.customer_id\n",
      "WHERE c.first_name = 'John' AND c.last_name = 'Smith'\n",
      "```\n",
      "\n",
      "**Result:**\n",
      "The total transaction amount from customer 'John Smith' is **$1,951.25**.\n"
     ]
    }
   ],
   "source": [
    "agent = App(model=llm, memory=True)\n",
    "print(agent(\"which table i have access to?\"))\n",
    "print(agent(\"what is the total transaction amount from customer 'John Smith'\"))"
   ]
  },
  {
   "cell_type": "code",
   "execution_count": 3,
   "metadata": {},
   "outputs": [
    {
     "name": "stdout",
     "output_type": "stream",
     "text": [
      "2025-06-25 11:42:53,273 - agentdk - INFO - {\"tool\": \"execute_sql\", \"args\": {\"query\": \"SELECT * FROM transactions LIMIT 2\"}}\n",
      "2025-06-25 11:42:53,677 - agentdk - INFO - {\"tool\": \"execute_sql\", \"status\": \"completed\"}\n",
      "```sql\n",
      "SELECT * FROM transactions LIMIT 2\n",
      "```\n",
      "\n",
      "**Result:**\n",
      "\n",
      "| transaction_id | account_id | transaction_type | amount  | currency | transaction_date     | description        | reference_number       | status    | merchant_name | category |\n",
      "|----------------|------------|-------------------|---------|----------|-----------------------|---------------------|------------------------|-----------|---------------|----------|\n",
      "| 1              | 1          | deposit            | 1200.00 | USD      | 2024-01-15 09:30:00   | Payroll deposit      | PAY-20240115-001       | completed | None          | salary   |\n",
      "| 2              | 1          | withdrawal         | 80.00   | USD      | 2024-01-16 14:25:00   | ATM withdrawal       | ATM-20240116-001       | completed | None          | cash     |\n"
     ]
    }
   ],
   "source": [
    "print(agent(\"give me 2 records from table 'trans'\"))"
   ]
  },
  {
   "cell_type": "code",
   "metadata": {},
   "outputs": [],
   "source": "print(agent(\"which table i just accessed\"))"
  },
  {
   "cell_type": "markdown",
   "source": "## New Builder Pattern Examples\n\nThe new builder pattern eliminates the need for class definitions and provides a much cleaner API.\n\n### 1. Factory Function Usage",
   "metadata": {}
  }
 ],
 "metadata": {
  "kernelspec": {
   "display_name": "agentdk",
   "language": "python",
   "name": "python3"
  },
  "language_info": {
   "codemirror_mode": {
    "name": "ipython",
    "version": 3
   },
   "file_extension": ".py",
   "mimetype": "text/x-python",
   "name": "python",
   "nbconvert_exporter": "python",
   "pygments_lexer": "ipython3",
   "version": "3.11.13"
  }
 },
 "nbformat": 4,
 "nbformat_minor": 2
}
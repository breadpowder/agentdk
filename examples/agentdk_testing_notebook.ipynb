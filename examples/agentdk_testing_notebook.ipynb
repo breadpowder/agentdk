{
  "cells": [
    {
      "cell_type": "raw",
      "metadata": {
        "vscode": {
          "languageId": "raw"
        }
      },
      "source": [
        "# AgentDK Testing Notebook\n",
        "\n",
        "This notebook demonstrates how to test and use the AgentDK framework in jupyter notebook with various agents and MCP integrations.\n",
        "\n",
        "## Features Covered:\n",
        "- Agent usage\n",
        "- MCP server integration with MySQL\n",
        "- Multi-agent supervisor patterns\n",
        "\n",
        "## Prerequisites:\n",
        "1. Run setip.sh to setup the environment for MySQL and populate the database with sample data.\n",
        "2. Install dependencies: `uv sync`\n",
        "3. Set up environment variables in `.env` file, e.g. OPENAI_API_KEY and ANTHROPIC_API_KEY"
      ]
    },
    {
      "cell_type": "code",
      "execution_count": null,
      "metadata": {},
      "outputs": [
        {
          "name": "stdout",
          "output_type": "stream",
          "text": [
            "✅ Environment variables loaded from /home/zineng/workspace/agentic/agentdk/examples/.env\n",
            "✅ Using OpenAI gpt-4o-mini\n"
          ]
        }
      ],
      "source": [
        "import os\n",
        "import sys\n",
        "import asyncio\n",
        "import json\n",
        "from typing import Any, Dict, List\n",
        "from pathlib import Path\n",
        "# Add the src directory to Python path for imports\n",
        "sys.path.insert(0, str(Path.cwd().parent / 'src'))\n",
        "from subagent.eda_agent import EDAAgent\n",
        "from examples.agent_app import App\n",
        "from agentdk.core.logging_config import ensure_nest_asyncio\n",
        "\n",
        "\n",
        "def get_llm():    \n",
        "    # Try OpenAI\n",
        "    if os.getenv('OPENAI_API_KEY'):\n",
        "        try:\n",
        "            from langchain_openai import ChatOpenAI\n",
        "            model = \"gpt-4o-mini\"\n",
        "            llm = ChatOpenAI(model=model, temperature=0)\n",
        "            print(f\"✅ Using OpenAI {model}\")\n",
        "            return llm\n",
        "        except ImportError:\n",
        "            print(\"❌ langchain_openai not available\")\n",
        "        except Exception as e:\n",
        "            print(f\"❌ OpenAI setup failed: {e}\")\n",
        "    \n",
        "    # Try Anthropic\n",
        "    elif os.getenv('ANTHROPIC_API_KEY'):\n",
        "        try:\n",
        "            from langchain_anthropic import ChatAnthropic\n",
        "            llm = ChatAnthropic(model=\"claude-3-haiku-20240307\", temperature=0)\n",
        "            print(\"✅ Using Anthropic Claude-3-Haiku\")\n",
        "            return llm\n",
        "        except ImportError:\n",
        "            print(\"❌ langchain_anthropic not available\")\n",
        "        except Exception as e:\n",
        "            print(f\"❌ Anthropic setup failed: {e}\")\n",
        "\n",
        "    else:\n",
        "        raise ValueError(\"No LLM API key found\")\n",
        "    # Fallback to mock\n",
        "    return llm\n",
        "\n",
        "# Get LLM instance\n",
        "llm = get_llm()\n",
        "\n"
      ]
    },
    {
      "cell_type": "markdown",
      "metadata": {},
      "source": []
    },
    {
      "cell_type": "code",
      "execution_count": 2,
      "metadata": {},
      "outputs": [
        {
          "name": "stdout",
          "output_type": "stream",
          "text": [
            "2025-06-25 11:42:38,683 - agentdk - INFO - WorkingMemory initialized for user default, session 9d93ef3e-1eef-4b15-b0d0-3b490f6acc44\n",
            "2025-06-25 11:42:38,686 - agentdk.memory.episodic_memory - INFO - EpisodicMemory initialized for user default\n",
            "2025-06-25 11:42:38,687 - agentdk - INFO - FactualMemory initialized for user default\n",
            "2025-06-25 11:42:38,688 - agentdk - INFO - Initializing WorkingMemory\n",
            "2025-06-25 11:42:38,688 - agentdk - INFO - WorkingMemory initialization complete\n",
            "2025-06-25 11:42:38,689 - agentdk - INFO - Initializing FactualMemory database\n",
            "2025-06-25 11:42:38,690 - agentdk - INFO - FactualMemory initialization complete\n",
            "2025-06-25 11:42:38,691 - agentdk.memory.memory_manager - INFO - MemoryManager initialized for user default, session session_2e3a0b5e\n",
            "✅ Memory system initialized for user default\n",
            "2025-06-25 11:42:39,562 - agentdk - INFO - Loaded MCP configuration from: subagent/mcp_config.json\n",
            "2025-06-25 11:42:39,702 - agentdk - INFO - MCP client configured with 1 servers\n",
            "2025-06-25 11:42:40,071 - agentdk - INFO - Loaded 1 tools from MCP servers\n",
            "2025-06-25 11:42:40,076 - agentdk - INFO - Created LangGraph agent with 1 tools\n",
            "2025-06-25 11:42:40,077 - agentdk - INFO - Agent EDAAgent initialized successfully\n",
            "2025-06-25 11:42:41,559 - agentdk - INFO - {\"tool\": \"execute_sql\", \"args\": {\"query\": \"SHOW TABLES;\"}}\n",
            "2025-06-25 11:42:41,947 - agentdk - INFO - {\"tool\": \"execute_sql\", \"status\": \"completed\"}\n",
            "**Available Tables:**\n",
            "- accounts\n",
            "- customer_account_summary  \n",
            "- customers\n",
            "- monthly_transaction_summary\n",
            "- transactions\n",
            "2025-06-25 11:42:46,994 - agentdk - INFO - {\"tool\": \"execute_sql\", \"args\": {\"query\": \"SELECT SUM(amount) AS total_amount \\nFROM transactions t\\nJOIN accounts a ON t.account_id = a.account_id\\nJOIN customers c ON a.customer_id = c.customer_id\\nWHERE c.first_name = 'John' AND c.last_name = 'Smith'\"}}\n",
            "2025-06-25 11:42:47,376 - agentdk - INFO - {\"tool\": \"execute_sql\", \"status\": \"completed\"}\n",
            "```sql\n",
            "SELECT SUM(amount) AS total_amount \n",
            "FROM transactions t\n",
            "JOIN accounts a ON t.account_id = a.account_id\n",
            "JOIN customers c ON a.customer_id = c.customer_id\n",
            "WHERE c.first_name = 'John' AND c.last_name = 'Smith'\n",
            "```\n",
            "\n",
            "**Result:**\n",
            "The total transaction amount from customer 'John Smith' is **$1,951.25**.\n"
          ]
        }
      ],
      "source": [
        "agent = App(model=llm, memory=True)\n",
        "print(agent(\"which table i have access to?\"))\n",
        "print(agent(\"what is the total transaction amount from customer 'John Smith'\"))"
      ]
    },
    {
      "cell_type": "code",
      "execution_count": 3,
      "metadata": {},
      "outputs": [
        {
          "name": "stdout",
          "output_type": "stream",
          "text": [
            "2025-06-25 11:42:53,273 - agentdk - INFO - {\"tool\": \"execute_sql\", \"args\": {\"query\": \"SELECT * FROM transactions LIMIT 2\"}}\n",
            "2025-06-25 11:42:53,677 - agentdk - INFO - {\"tool\": \"execute_sql\", \"status\": \"completed\"}\n",
            "```sql\n",
            "SELECT * FROM transactions LIMIT 2\n",
            "```\n",
            "\n",
            "**Result:**\n",
            "\n",
            "| transaction_id | account_id | transaction_type | amount  | currency | transaction_date     | description        | reference_number       | status    | merchant_name | category |\n",
            "|----------------|------------|-------------------|---------|----------|-----------------------|---------------------|------------------------|-----------|---------------|----------|\n",
            "| 1              | 1          | deposit            | 1200.00 | USD      | 2024-01-15 09:30:00   | Payroll deposit      | PAY-20240115-001       | completed | None          | salary   |\n",
            "| 2              | 1          | withdrawal         | 80.00   | USD      | 2024-01-16 14:25:00   | ATM withdrawal       | ATM-20240116-001       | completed | None          | cash     |\n"
          ]
        }
      ],
      "source": [
        "print(agent(\"give me 2 records from table 'trans'\"))"
      ]
    },
    {
      "cell_type": "code",
      "execution_count": 4,
      "metadata": {},
      "outputs": [
        {
          "name": "stdout",
          "output_type": "stream",
          "text": [
            "The table you just accessed is **transactions**.\n"
          ]
        }
      ],
      "source": [
        "print(agent(\"which table i just accessed'\"))"
      ]
    }
  ],
  "metadata": {
    "kernelspec": {
      "display_name": "agentdk",
      "language": "python",
      "name": "python3"
    },
    "language_info": {
      "codemirror_mode": {
        "name": "ipython",
        "version": 3
      },
      "file_extension": ".py",
      "mimetype": "text/x-python",
      "name": "python",
      "nbconvert_exporter": "python",
      "pygments_lexer": "ipython3",
      "version": "3.11.13"
    }
  },
  "nbformat": 4,
  "nbformat_minor": 2
}

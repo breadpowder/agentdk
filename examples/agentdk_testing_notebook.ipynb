{
  "cells": [
    {
      "cell_type": "raw",
      "metadata": {
        "vscode": {
          "languageId": "raw"
        }
      },
      "source": [
        "# AgentDK Testing Notebook\n",
        "\n",
        "This notebook demonstrates how to test and use the AgentDK framework in jupyter notebook with various agents and MCP integrations.\n",
        "\n",
        "## Features Covered:\n",
        "- Agent usage\n",
        "- MCP server integration with MySQL\n",
        "- Multi-agent supervisor patterns\n",
        "\n",
        "## Prerequisites:\n",
        "1. Run setip.sh to setup the environment for MySQL and populate the database with sample data.\n",
        "2. Install dependencies: `uv sync`\n",
        "3. Set up environment variables in `.env` file, e.g. OPENAI_API_KEY and ANTHROPIC_API_KEY"
      ]
    },
    {
      "cell_type": "code",
      "execution_count": 1,
      "metadata": {},
      "outputs": [
        {
          "name": "stdout",
          "output_type": "stream",
          "text": [
            "✅ Environment variables loaded from /home/zineng/workspace/agentic/agentdk/examples/.env\n",
            "✅ Using OpenAI gpt-4o-mini\n"
          ]
        }
      ],
      "source": [
        "import os\n",
        "import sys\n",
        "import asyncio\n",
        "import json\n",
        "from typing import Any, Dict, List\n",
        "from pathlib import Path\n",
        "# Add the src directory to Python path for imports\n",
        "sys.path.insert(0, str(Path.cwd().parent / 'src'))\n",
        "from subagent.eda_agent import EDAAgent\n",
        "from agent_app import App\n",
        "from agentdk.core.logging_config import ensure_nest_asyncio\n",
        "\n",
        "\n",
        "def get_llm():    \n",
        "    # Try OpenAI\n",
        "    if os.getenv('OPENAI_API_KEY'):\n",
        "        try:\n",
        "            from langchain_openai import ChatOpenAI\n",
        "            model = \"gpt-4o-mini\"\n",
        "            llm = ChatOpenAI(model=model, temperature=0)\n",
        "            print(f\"✅ Using OpenAI {model}\")\n",
        "            return llm\n",
        "        except ImportError:\n",
        "            print(\"❌ langchain_openai not available\")\n",
        "        except Exception as e:\n",
        "            print(f\"❌ OpenAI setup failed: {e}\")\n",
        "    \n",
        "    # Try Anthropic\n",
        "    elif os.getenv('ANTHROPIC_API_KEY'):\n",
        "        try:\n",
        "            from langchain_anthropic import ChatAnthropic\n",
        "            llm = ChatAnthropic(model=\"claude-3-haiku-20240307\", temperature=0)\n",
        "            print(\"✅ Using Anthropic Claude-3-Haiku\")\n",
        "            return llm\n",
        "        except ImportError:\n",
        "            print(\"❌ langchain_anthropic not available\")\n",
        "        except Exception as e:\n",
        "            print(f\"❌ Anthropic setup failed: {e}\")\n",
        "\n",
        "    else:\n",
        "        raise ValueError(\"No LLM API key found\")\n",
        "    # Fallback to mock\n",
        "    return llm\n",
        "\n",
        "# Get LLM instance\n",
        "llm = get_llm()\n",
        "\n"
      ]
    },
    {
      "cell_type": "markdown",
      "metadata": {},
      "source": []
    },
    {
      "cell_type": "code",
      "execution_count": 14,
      "metadata": {},
      "outputs": [
        {
          "name": "stdout",
          "output_type": "stream",
          "text": [
            "2025-06-26 23:40:09,074 - agentdk - INFO - WorkingMemory initialized for user default, session 4968e817-2489-4c0f-b6b5-8340dfdc114d\n",
            "2025-06-26 23:40:09,077 - agentdk.memory.episodic_memory - INFO - EpisodicMemory initialized for user default\n",
            "2025-06-26 23:40:09,078 - agentdk - INFO - FactualMemory initialized for user default\n",
            "2025-06-26 23:40:09,079 - agentdk - INFO - Initializing WorkingMemory\n",
            "2025-06-26 23:40:09,079 - agentdk - INFO - WorkingMemory initialization complete\n",
            "2025-06-26 23:40:09,080 - agentdk - INFO - Initializing FactualMemory database\n",
            "2025-06-26 23:40:09,081 - agentdk - INFO - FactualMemory initialization complete\n",
            "2025-06-26 23:40:09,081 - agentdk.memory.memory_manager - INFO - MemoryManager initialized for user default, session session_e1a47adc\n",
            "✅ Memory system initialized for user default\n",
            "Iteration 5\n",
            "2025-06-26 23:40:09,861 - agentdk - INFO - Loaded MCP configuration from: subagent/mcp_config.json\n",
            "2025-06-26 23:40:09,862 - agentdk - INFO - Reusing existing MCP client for 1 servers\n",
            "2025-06-26 23:40:10,222 - agentdk - INFO - Loaded 1 tools from MCP servers\n",
            "2025-06-26 23:40:10,227 - agentdk - INFO - Created LangGraph agent with 1 tools\n",
            "2025-06-26 23:40:10,227 - agentdk - INFO - Agent EDAAgent initialized successfully\n",
            "2025-06-26 23:40:11,779 - agentdk - INFO - {\"tool\": \"execute_sql\", \"args\": {\"query\": \"SELECT SUM(amount) AS total_amount \\nFROM transactions t\\nJOIN accounts a ON t.account_id = a.account_id\\nJOIN customers c ON a.customer_id = c.customer_id\\nWHERE c.first_name = 'John' AND c.last_name = 'Smith5'\"}}\n",
            "2025-06-26 23:40:12,154 - agentdk - INFO - {\"tool\": \"execute_sql\", \"status\": \"completed\"}\n",
            "```sql\n",
            "SELECT SUM(amount) AS total_amount \n",
            "FROM transactions t\n",
            "JOIN accounts a ON t.account_id = a.account_id\n",
            "JOIN customers c ON a.customer_id = c.customer_id\n",
            "WHERE c.first_name = 'John' AND c.last_name = 'Smith5'\n",
            "```\n",
            "\n",
            "**Result:**\n",
            "The total transaction amount from customer 'John Smith5' is **$0.00**.\n",
            "Iteration 6\n",
            "2025-06-26 23:40:22,119 - agentdk - INFO - {\"tool\": \"execute_sql\", \"args\": {\"query\": \"SELECT SUM(amount) AS total_amount \\nFROM transactions t\\nJOIN accounts a ON t.account_id = a.account_id\\nJOIN customers c ON a.customer_id = c.customer_id\\nWHERE c.first_name = 'John' AND c.last_name = 'Smith6'\"}}\n",
            "2025-06-26 23:40:22,495 - agentdk - INFO - {\"tool\": \"execute_sql\", \"status\": \"completed\"}\n",
            "```sql\n",
            "SELECT SUM(amount) AS total_amount \n",
            "FROM transactions t\n",
            "JOIN accounts a ON t.account_id = a.account_id\n",
            "JOIN customers c ON a.customer_id = c.customer_id\n",
            "WHERE c.first_name = 'John' AND c.last_name = 'Smith6'\n",
            "```\n",
            "\n",
            "**Result:**\n",
            "The total transaction amount from customer 'John Smith6' is **$0.00**.\n",
            "Iteration 7\n",
            "2025-06-26 23:40:30,414 - agentdk - INFO - {\"tool\": \"execute_sql\", \"args\": {\"query\": \"SELECT SUM(amount) AS total_amount \\nFROM transactions t\\nJOIN accounts a ON t.account_id = a.account_id\\nJOIN customers c ON a.customer_id = c.customer_id\\nWHERE c.first_name = 'John' AND c.last_name = 'Smith7'\"}}\n",
            "2025-06-26 23:40:30,796 - agentdk - INFO - {\"tool\": \"execute_sql\", \"status\": \"completed\"}\n",
            "```sql\n",
            "SELECT SUM(amount) AS total_amount \n",
            "FROM transactions t\n",
            "JOIN accounts a ON t.account_id = a.account_id\n",
            "JOIN customers c ON a.customer_id = c.customer_id\n",
            "WHERE c.first_name = 'John' AND c.last_name = 'Smith7'\n",
            "```\n",
            "\n",
            "**Result:**\n",
            "The total transaction amount from customer 'John Smith7' is **$0.00**.\n",
            "Iteration 8\n",
            "2025-06-26 23:40:38,197 - agentdk - INFO - {\"tool\": \"execute_sql\", \"args\": {\"query\": \"SELECT SUM(amount) AS total_amount \\nFROM transactions t\\nJOIN accounts a ON t.account_id = a.account_id\\nJOIN customers c ON a.customer_id = c.customer_id\\nWHERE c.first_name = 'John' AND c.last_name = 'Smith8'\"}}\n",
            "2025-06-26 23:40:38,569 - agentdk - INFO - {\"tool\": \"execute_sql\", \"status\": \"completed\"}\n",
            "```sql\n",
            "SELECT SUM(amount) AS total_amount \n",
            "FROM transactions t\n",
            "JOIN accounts a ON t.account_id = a.account_id\n",
            "JOIN customers c ON a.customer_id = c.customer_id\n",
            "WHERE c.first_name = 'John' AND c.last_name = 'Smith8'\n",
            "```\n",
            "\n",
            "**Result:**\n",
            "The total transaction amount from customer 'John Smith8' is **$0.00**.\n",
            "Iteration 9\n",
            "2025-06-26 23:40:45,056 - agentdk - INFO - {\"tool\": \"execute_sql\", \"args\": {\"query\": \"SELECT SUM(amount) AS total_amount \\nFROM transactions t\\nJOIN accounts a ON t.account_id = a.account_id\\nJOIN customers c ON a.customer_id = c.customer_id\\nWHERE c.first_name = 'John' AND c.last_name = 'Smith9'\"}}\n",
            "2025-06-26 23:40:45,433 - agentdk - INFO - {\"tool\": \"execute_sql\", \"status\": \"completed\"}\n",
            "```sql\n",
            "SELECT SUM(amount) AS total_amount \n",
            "FROM transactions t\n",
            "JOIN accounts a ON t.account_id = a.account_id\n",
            "JOIN customers c ON a.customer_id = c.customer_id\n",
            "WHERE c.first_name = 'John' AND c.last_name = 'Smith9'\n",
            "```\n",
            "\n",
            "**Result:**\n",
            "The total transaction amount from customer 'John Smith9' is **$0.00**.\n"
          ]
        }
      ],
      "source": [
        "agent = App(model=llm, memory=True)\n",
        "import time\n",
        "for i in range(5,10):\n",
        "    print(f\"Iteration {i}\")\n",
        "    print(agent(f\"what is the total transaction amount from customer 'John Smith{i}'\"))\n",
        "    time.sleep(2)\n"
      ]
    },
    {
      "cell_type": "code",
      "execution_count": 9,
      "metadata": {},
      "outputs": [
        {
          "name": "stdout",
          "output_type": "stream",
          "text": [
            "2025-06-26 23:35:08,020 - agentdk - INFO - {\"tool\": \"execute_sql\", \"args\": {\"query\": \"SELECT * FROM transactions LIMIT 2\"}}\n",
            "2025-06-26 23:35:08,398 - agentdk - INFO - {\"tool\": \"execute_sql\", \"status\": \"completed\"}\n",
            "```sql\n",
            "SELECT * FROM transactions LIMIT 2\n",
            "```\n",
            "\n",
            "**Result:**\n",
            "\n",
            "| transaction_id | account_id | transaction_type | amount  | currency | transaction_date     | description       | reference_number      | status    | merchant_name | category |\n",
            "|----------------|------------|------------------|---------|----------|-----------------------|--------------------|-----------------------|-----------|---------------|----------|\n",
            "| 1              | 1          | deposit          | 1200.00 | USD      | 2024-01-15 09:30:00   | Payroll deposit     | PAY-20240115-001      | completed | None          | salary   |\n",
            "| 2              | 1          | withdrawal       | 80.00   | USD      | 2024-01-16 14:25:00   | ATM withdrawal      | ATM-20240116-001      | completed | None          | cash     |\n"
          ]
        }
      ],
      "source": [
        "print(agent(\"give me 2 records from table 'trans'\"))"
      ]
    },
    {
      "cell_type": "code",
      "execution_count": 10,
      "metadata": {},
      "outputs": [
        {
          "name": "stdout",
          "output_type": "stream",
          "text": [
            "The table you just accessed is the **transactions** table.\n"
          ]
        }
      ],
      "source": [
        "print(agent(\"which table i just accessed'\"))"
      ]
    }
  ],
  "metadata": {
    "kernelspec": {
      "display_name": "agentdk",
      "language": "python",
      "name": "python3"
    },
    "language_info": {
      "codemirror_mode": {
        "name": "ipython",
        "version": 3
      },
      "file_extension": ".py",
      "mimetype": "text/x-python",
      "name": "python",
      "nbconvert_exporter": "python",
      "pygments_lexer": "ipython3",
      "version": "3.11.13"
    }
  },
  "nbformat": 4,
  "nbformat_minor": 2
}
